{
 "cells": [
  {
   "cell_type": "markdown",
   "id": "324e51fb",
   "metadata": {},
   "source": [
    "### My First Program"
   ]
  },
  {
   "cell_type": "code",
   "execution_count": null,
   "id": "411dc366",
   "metadata": {},
   "outputs": [],
   "source": [
    "name=\"tharun\"\n",
    "name"
   ]
  },
  {
   "cell_type": "code",
   "execution_count": null,
   "id": "b3987569",
   "metadata": {},
   "outputs": [],
   "source": [
    "name_lists=\"tharun\",\"kumar\"\n",
    "name_lists"
   ]
  },
  {
   "cell_type": "markdown",
   "id": "eb9bb9e6",
   "metadata": {},
   "source": [
    "### Data Types"
   ]
  },
  {
   "cell_type": "code",
   "execution_count": null,
   "id": "444b5b2a",
   "metadata": {},
   "outputs": [],
   "source": [
    "name=\"tharunkumar\"\n",
    "type(name)"
   ]
  },
  {
   "cell_type": "code",
   "execution_count": null,
   "id": "bf0f3cc8",
   "metadata": {},
   "outputs": [],
   "source": [
    "a=10\n",
    "type(a)"
   ]
  },
  {
   "cell_type": "code",
   "execution_count": null,
   "id": "242b4dd3",
   "metadata": {},
   "outputs": [],
   "source": [
    "b=10.87\n",
    "type(b)"
   ]
  },
  {
   "cell_type": "code",
   "execution_count": null,
   "id": "75a395fe",
   "metadata": {},
   "outputs": [],
   "source": [
    "c=True\n",
    "type(c)"
   ]
  },
  {
   "cell_type": "markdown",
   "id": "a8f105bb",
   "metadata": {},
   "source": [
    "### Variables"
   ]
  },
  {
   "cell_type": "code",
   "execution_count": null,
   "id": "9ccf57c3",
   "metadata": {},
   "outputs": [],
   "source": [
    "branch=\"cse\",\"civil\"#The only allowed character is underscode\n",
    "branch                #varibale name should not have space"
   ]
  },
  {
   "cell_type": "markdown",
   "id": "8b5844ab",
   "metadata": {},
   "source": [
    "# Lists\n",
    "### Square Brackets\n",
    "### Elements can be retrieved using index\n",
    "### Mutable -> Can Change\n",
    "### Heterrogeneous->Mutiple Data Types"
   ]
  },
  {
   "cell_type": "code",
   "execution_count": null,
   "id": "11725b9c",
   "metadata": {},
   "outputs": [],
   "source": [
    "list = [1,2.4,\"tharun\",True]\n",
    "list"
   ]
  },
  {
   "cell_type": "code",
   "execution_count": null,
   "id": "cd8589fe",
   "metadata": {},
   "outputs": [],
   "source": [
    "type(list)"
   ]
  },
  {
   "cell_type": "code",
   "execution_count": null,
   "id": "6e528602",
   "metadata": {},
   "outputs": [],
   "source": [
    "list[3]"
   ]
  },
  {
   "cell_type": "code",
   "execution_count": null,
   "id": "bb536ba5",
   "metadata": {},
   "outputs": [],
   "source": [
    "list[-3]"
   ]
  },
  {
   "cell_type": "code",
   "execution_count": null,
   "id": "98317a86",
   "metadata": {},
   "outputs": [],
   "source": [
    "list[2:]"
   ]
  },
  {
   "cell_type": "code",
   "execution_count": null,
   "id": "a80108d9",
   "metadata": {},
   "outputs": [],
   "source": [
    "list[::]"
   ]
  },
  {
   "cell_type": "code",
   "execution_count": null,
   "id": "49d2ddd7",
   "metadata": {},
   "outputs": [],
   "source": [
    "list[0:4:1]"
   ]
  },
  {
   "cell_type": "code",
   "execution_count": null,
   "id": "a50d5f69",
   "metadata": {},
   "outputs": [],
   "source": [
    "list[0:4:2]"
   ]
  },
  {
   "cell_type": "markdown",
   "id": "5658ddd7",
   "metadata": {},
   "source": [
    "# Tuples\n",
    "### Tuple is unmutable ->cannot make changes\n",
    "### () or No Brackets"
   ]
  },
  {
   "cell_type": "code",
   "execution_count": null,
   "id": "222d495f",
   "metadata": {},
   "outputs": [],
   "source": [
    "tuple = (1,2,3,3.4,True)\n",
    "tuple"
   ]
  },
  {
   "cell_type": "code",
   "execution_count": null,
   "id": "b26ad66d",
   "metadata": {},
   "outputs": [],
   "source": [
    "type(tuple)"
   ]
  },
  {
   "cell_type": "code",
   "execution_count": null,
   "id": "1d3d6689",
   "metadata": {},
   "outputs": [],
   "source": [
    "tuple[-3]"
   ]
  },
  {
   "cell_type": "code",
   "execution_count": null,
   "id": "cabf5413",
   "metadata": {},
   "outputs": [],
   "source": [
    "tuple[2]"
   ]
  },
  {
   "cell_type": "code",
   "execution_count": null,
   "id": "0a2ffe63",
   "metadata": {},
   "outputs": [],
   "source": [
    "tuple[:2:]"
   ]
  },
  {
   "cell_type": "markdown",
   "id": "f8bd801e",
   "metadata": {},
   "source": [
    "# Dicitonary\n",
    "### Key-value Pair ds\n",
    "### We can retrive values i=using index\n",
    "### Mutable\n",
    "### {}"
   ]
  },
  {
   "cell_type": "code",
   "execution_count": null,
   "id": "d7938012",
   "metadata": {},
   "outputs": [],
   "source": [
    "dictionary={'1':'Rajitha','2':'Madhu','3':'Tharun','id':[5401,5402,5403]}\n",
    "dictionary"
   ]
  },
  {
   "cell_type": "code",
   "execution_count": 3,
   "id": "3b930952",
   "metadata": {},
   "outputs": [
    {
     "data": {
      "text/plain": [
       "dict_values(['Rajitha', 'Madhu', 'Tharun', [5401, 5402, 5403]])"
      ]
     },
     "execution_count": 3,
     "metadata": {},
     "output_type": "execute_result"
    }
   ],
   "source": [
    "dictionary.values()"
   ]
  },
  {
   "cell_type": "code",
   "execution_count": 4,
   "id": "af6f6899",
   "metadata": {},
   "outputs": [
    {
     "data": {
      "text/plain": [
       "dict_keys(['1', '2', '3', 'id'])"
      ]
     },
     "execution_count": 4,
     "metadata": {},
     "output_type": "execute_result"
    }
   ],
   "source": [
    "dictionary.keys()"
   ]
  },
  {
   "cell_type": "code",
   "execution_count": 7,
   "id": "e3f3c12d",
   "metadata": {},
   "outputs": [
    {
     "data": {
      "text/plain": [
       "'Rajitha'"
      ]
     },
     "execution_count": 7,
     "metadata": {},
     "output_type": "execute_result"
    }
   ],
   "source": [
    "dictionary['1']"
   ]
  },
  {
   "cell_type": "code",
   "execution_count": 10,
   "id": "ba49e794",
   "metadata": {},
   "outputs": [
    {
     "data": {
      "text/plain": [
       "{'1': 'Praseedha', '2': 'Madhu', '3': 'Tharun', 'id': [5401, 5402, 5403]}"
      ]
     },
     "execution_count": 10,
     "metadata": {},
     "output_type": "execute_result"
    }
   ],
   "source": [
    "dictionary['1']='Praseedha'\n",
    "dictionary"
   ]
  },
  {
   "cell_type": "markdown",
   "id": "c6fc8d8d",
   "metadata": {},
   "source": [
    "### Loops"
   ]
  },
  {
   "cell_type": "code",
   "execution_count": 19,
   "id": "cfb2a14b",
   "metadata": {},
   "outputs": [
    {
     "name": "stdout",
     "output_type": "stream",
     "text": [
      "34  \n"
     ]
    }
   ],
   "source": [
    "num=34\n",
    "if (num<10):\n",
    "    print(num,\"isGreater than 30\")\n",
    "elif(num<20):\n",
    "    print(num,\"is less than 20\")\n",
    "else:\n",
    "        print(num,\" \")"
   ]
  }
 ],
 "metadata": {
  "kernelspec": {
   "display_name": "Python 3 (ipykernel)",
   "language": "python",
   "name": "python3"
  },
  "language_info": {
   "codemirror_mode": {
    "name": "ipython",
    "version": 3
   },
   "file_extension": ".py",
   "mimetype": "text/x-python",
   "name": "python",
   "nbconvert_exporter": "python",
   "pygments_lexer": "ipython3",
   "version": "3.11.5"
  }
 },
 "nbformat": 4,
 "nbformat_minor": 5
}
